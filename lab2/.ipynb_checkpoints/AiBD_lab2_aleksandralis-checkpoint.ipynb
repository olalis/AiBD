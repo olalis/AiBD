{
 "cells": [
  {
   "cell_type": "markdown",
   "id": "5d09a045",
   "metadata": {},
   "source": [
    "## Analiza i bazy danych\r\n",
    "### Laboratorium21\r\n",
    "Aleksanrda Lis    \r\n",
    "grupa: 2a     \r\n",
    "numer indeksu: 400639    "
   ]
  },
  {
   "cell_type": "markdown",
   "id": "3af7d551",
   "metadata": {},
   "source": [
    "#### Zadanie 1:"
   ]
  },
  {
   "cell_type": "code",
   "execution_count": null,
   "id": "86d016fa-9617-44d4-8755-3c1e643cb477",
   "metadata": {},
   "outputs": [],
   "source": []
  }
 ],
 "metadata": {
  "interpreter": {
   "hash": "e885cd74143ad494932267455ab53278514454996393c47fe6c2589217b9edf3"
  },
  "kernelspec": {
   "display_name": "Python 3",
   "language": "python",
   "name": "python3"
  },
  "language_info": {
   "codemirror_mode": {
    "name": "ipython",
    "version": 3
   },
   "file_extension": ".py",
   "mimetype": "text/x-python",
   "name": "python",
   "nbconvert_exporter": "python",
   "pygments_lexer": "ipython3",
   "version": "3.9.4"
  }
 },
 "nbformat": 4,
 "nbformat_minor": 5
}
